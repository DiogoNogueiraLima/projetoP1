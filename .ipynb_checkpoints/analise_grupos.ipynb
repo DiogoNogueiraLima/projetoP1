{
 "cells": [
  {
   "cell_type": "markdown",
   "id": "15125ddb",
   "metadata": {},
   "source": [
    "# Análise por grupos"
   ]
  },
  {
   "cell_type": "markdown",
   "id": "596f443d",
   "metadata": {},
   "source": [
    "Nessa aba será analizado a distribuição de vacinas entre os grupos prioritários"
   ]
  },
  {
   "cell_type": "code",
   "execution_count": 36,
   "id": "8b28d1c5",
   "metadata": {},
   "outputs": [
    {
     "data": {
      "text/html": [
       "<div>\n",
       "<style scoped>\n",
       "    .dataframe tbody tr th:only-of-type {\n",
       "        vertical-align: middle;\n",
       "    }\n",
       "\n",
       "    .dataframe tbody tr th {\n",
       "        vertical-align: top;\n",
       "    }\n",
       "\n",
       "    .dataframe thead th {\n",
       "        text-align: right;\n",
       "    }\n",
       "</style>\n",
       "<table border=\"1\" class=\"dataframe\">\n",
       "  <thead>\n",
       "    <tr style=\"text-align: right;\">\n",
       "      <th></th>\n",
       "      <th>grupo</th>\n",
       "      <th>dose</th>\n",
       "    </tr>\n",
       "  </thead>\n",
       "  <tbody>\n",
       "    <tr>\n",
       "      <th>0</th>\n",
       "      <td>TRABALHADORES INDUSTRIAIS E BANCÁRIOS</td>\n",
       "      <td>2.0</td>\n",
       "    </tr>\n",
       "    <tr>\n",
       "      <th>1</th>\n",
       "      <td>TRABALHADORES INDUSTRIAIS E BANCÁRIOS</td>\n",
       "      <td>1.0</td>\n",
       "    </tr>\n",
       "    <tr>\n",
       "      <th>2</th>\n",
       "      <td>TRABALHADORES DA SAÚDE</td>\n",
       "      <td>2.0</td>\n",
       "    </tr>\n",
       "    <tr>\n",
       "      <th>3</th>\n",
       "      <td>TRABALHADORES DA SAÚDE</td>\n",
       "      <td>1.0</td>\n",
       "    </tr>\n",
       "    <tr>\n",
       "      <th>4</th>\n",
       "      <td>TRABALHADORES DA SAÚDE</td>\n",
       "      <td>3.0</td>\n",
       "    </tr>\n",
       "    <tr>\n",
       "      <th>...</th>\n",
       "      <td>...</td>\n",
       "      <td>...</td>\n",
       "    </tr>\n",
       "    <tr>\n",
       "      <th>3407292</th>\n",
       "      <td>IDOSOS</td>\n",
       "      <td>1.0</td>\n",
       "    </tr>\n",
       "    <tr>\n",
       "      <th>3407293</th>\n",
       "      <td>IDOSOS</td>\n",
       "      <td>3.0</td>\n",
       "    </tr>\n",
       "    <tr>\n",
       "      <th>3407294</th>\n",
       "      <td>IDOSOS</td>\n",
       "      <td>2.0</td>\n",
       "    </tr>\n",
       "    <tr>\n",
       "      <th>3407295</th>\n",
       "      <td>IDOSOS</td>\n",
       "      <td>3.0</td>\n",
       "    </tr>\n",
       "    <tr>\n",
       "      <th>3407296</th>\n",
       "      <td>IDOSOS</td>\n",
       "      <td>1.0</td>\n",
       "    </tr>\n",
       "  </tbody>\n",
       "</table>\n",
       "<p>3407297 rows × 2 columns</p>\n",
       "</div>"
      ],
      "text/plain": [
       "                                         grupo  dose\n",
       "0        TRABALHADORES INDUSTRIAIS E BANCÁRIOS   2.0\n",
       "1        TRABALHADORES INDUSTRIAIS E BANCÁRIOS   1.0\n",
       "2                       TRABALHADORES DA SAÚDE   2.0\n",
       "3                       TRABALHADORES DA SAÚDE   1.0\n",
       "4                       TRABALHADORES DA SAÚDE   3.0\n",
       "...                                        ...   ...\n",
       "3407292                                 IDOSOS   1.0\n",
       "3407293                                 IDOSOS   3.0\n",
       "3407294                                 IDOSOS   2.0\n",
       "3407295                                 IDOSOS   3.0\n",
       "3407296                                 IDOSOS   1.0\n",
       "\n",
       "[3407297 rows x 2 columns]"
      ]
     },
     "execution_count": 36,
     "metadata": {},
     "output_type": "execute_result"
    }
   ],
   "source": [
    "import pandas as pd\n",
    "import matplotlib\n",
    "import matplotlib.pyplot as plt\n",
    "import numpy as np\n",
    "data_ = pd.read_csv('vacinados.csv', encoding = \"UTF-8\", sep=\";\")\n",
    "\n",
    "#remoção de colunas indesejadas\n",
    "dt = data_.drop(columns=['cpf','nome','sexo','vacina','lote','data_vacinacao','local_vacinacao',])\n",
    "\n",
    "#remoção de valores ausentes\n",
    "data = dt.dropna()\n",
    "data"
   ]
  },
  {
   "cell_type": "markdown",
   "id": "01b925da",
   "metadata": {},
   "source": [
    "Separando em dois grupo comum e grupos prioritários para realizar a comparação de vacinas tomadas "
   ]
  },
  {
   "cell_type": "code",
   "execution_count": 37,
   "id": "7e696782",
   "metadata": {},
   "outputs": [],
   "source": [
    "grupo_comum_total = (data['grupo'] != 'IDOSOS')&(data['grupo'] != 'PESSOAS COM DEFICIÊNCIA - 12 A 17 ANOS')&(data['grupo'] != 'CRIANÇAS DE 05 A 11 ANOS - Síndrome de Down')&(data['grupo'] != 'SESAU - BUSCA ATIVA')&(data['grupo'] != 'TRABALHADORES DA SAÚDE')&(data['grupo'] != 'TRABALHADORES DA LIMPEZA URBANA')&(data['grupo'] != 'TRABALHADORES DA EDUCAÇÃO')&(data['grupo'] != 'TRABALHADORES INDUSTRIAIS E BANCÁRIOS')&(data['grupo'] != 'GESTANTES E PUÉRPERAS')&(data['grupo'] != 'GESTANTES E PUÉRPERAS - 12 A 17 ANOS')&(data['grupo'] != 'GESTANTES E PUÉRPERAS NÃO RESIDENTES EM RECIFE')&(data['grupo'] != 'OUTRAS PRIORIDADES')&(data['grupo'] != 'PESSOAS COM COMORBIDADES')&(data['grupo'] != 'PESSOAS EM SITUAÇÃO DE RUA')&(data['grupo'] != 'CAMINHONEIROS')&(data['grupo'] != 'TRABALHADORES DE TRANSPORTE AÉREO')&(data['grupo'] != 'TRABALHADORES DA ASSISTÊNCIA SOCIAL')&(data['grupo'] != 'TRABALHADORES PORTUÁRIOS')&(data['grupo'] != 'TRABALHADORES DE TRANSPORTE METROVIÁRIO E FERROVIÁRIO')&(data['grupo'] != 'TRABALHADORES DE TRANSPORTE COLETIVO RODOVIÁRIO')&(data['grupo'] != 'TRABALHADORES DE TRANSPORTE AQUAVIÁRIO')&(data['grupo'] != 'CRIANÇAS DE 05 A 11 ANOS - Prioritárias')&(data['grupo'] != 'PESSOAS COM COMORBIDADES - 12 A 17 ANOS')&(data['grupo'] != 'PESSOAS COM VIAGEM PARA EXTERIOR (ESTUDO/PESQUISA/TRABALHO/TRATAMENTO DE SAÚDE)')\n",
    "grupo_prioritario_total = (data['grupo']!='PÚBLICO EM GERAL (18 a 59 anos)') & (data['grupo']!='CRIANÇAS DE 05 A 11 ANOS') & (data['grupo']!='CRIANÇAS DE 03 E 04 ANOS') & (data['grupo']!='PÚBLICO EM GERAL - MENOR DE 18 ANOS')"
   ]
  },
  {
   "cell_type": "markdown",
   "id": "49cfa954",
   "metadata": {},
   "source": [
    "Gráfico de \"pizza\" para melhor visualização da vacinação de grupos comuns x grupos prioritários"
   ]
  },
  {
   "cell_type": "code",
   "execution_count": 38,
   "id": "675f24d4",
   "metadata": {},
   "outputs": [
    {
     "data": {
      "image/png": "[encoded data removed]",
      "text/plain": [
       "<Figure size 1080x504 with 1 Axes>"
      ]
     },
     "metadata": {},
     "output_type": "display_data"
    },
    {
     "name": "stdout",
     "output_type": "stream",
     "text": [
      "Número de vacinas tomadas pelo grupo comum: 1871486\n",
      "Número de vacinas tomadas pelo grupo prioritário: 1696331\n"
     ]
    }
   ],
   "source": [
    "qtdgrupo_comum = data[grupo_comum_total].count()[0]\n",
    "qtdgrupo_prioritario = data[grupo_prioritario_total].count()[0]\n",
    "\n",
    "valores = [qtdgrupo_comum, qtdgrupo_prioritario]\n",
    "rotulos = ['Grupo comum','Grupo prioritário']\n",
    "\n",
    "fig1, ax2 = plt.subplots(figsize=(15, 7))\n",
    "plt.rcParams['xtick.labelsize'] = 12\n",
    "wedges, texts, autotexts = ax2.pie(x=valores, labels=rotulos, autopct='%1.1f%%', shadow=False, startangle=90, colors = ['steelblue', 'red'], explode=(0.05, 0.05))\n",
    "plt.setp(autotexts,size=15)\n",
    "plt.title('Grupos vacinação - Total')\n",
    "ax2.axis('equal')\n",
    "plt.show()\n",
    "print(f'Número de vacinas tomadas pelo grupo comum: {qtdgrupo_comum}')\n",
    "print(f'Número de vacinas tomadas pelo grupo prioritário: {qtdgrupo_prioritario}')"
   ]
  },
  {
   "cell_type": "markdown",
   "id": "93f4aebb",
   "metadata": {},
   "source": [
    "Analisando o gráfico, entende-se que o grupo que mais tomou vacina foi o comum."
   ]
  },
  {
   "cell_type": "markdown",
   "id": "cc31dc73",
   "metadata": {},
   "source": [
    "Divisão dos grupos prioritários em doses"
   ]
  },
  {
   "cell_type": "code",
   "execution_count": null,
   "id": "e7bf5c6f",
   "metadata": {},
   "outputs": [],
   "source": [
    "grupo_prioritario_1dose = (data['grupo']!='PÚBLICO EM GERAL (18 a 59 anos)') & (data['grupo']!='CRIANÇAS DE 05 A 11 ANOS') & (data['grupo']!='CRIANÇAS DE 03 E 04 ANOS') & (data['grupo']!='PÚBLICO EM GERAL - MENOR DE 18 ANOS')&(data['dose'] == 1)\n",
    "grupo_prioritario_2dose = (data['grupo']!='PÚBLICO EM GERAL (18 a 59 anos)') & (data['grupo']!='CRIANÇAS DE 05 A 11 ANOS') & (data['grupo']!='CRIANÇAS DE 03 E 04 ANOS') & (data['grupo']!='PÚBLICO EM GERAL - MENOR DE 18 ANOS')&(data['dose'] == 2)\n",
    "grupo_prioritario_3dose = (data['grupo']!='PÚBLICO EM GERAL (18 a 59 anos)') & (data['grupo']!='CRIANÇAS DE 05 A 11 ANOS') & (data['grupo']!='CRIANÇAS DE 03 E 04 ANOS') & (data['grupo']!='PÚBLICO EM GERAL - MENOR DE 18 ANOS')&(data['dose'] == 3)\n",
    "grupo_prioritario_4dose = (data['grupo']!='PÚBLICO EM GERAL (18 a 59 anos)') & (data['grupo']!='CRIANÇAS DE 05 A 11 ANOS') & (data['grupo']!='CRIANÇAS DE 03 E 04 ANOS') & (data['grupo']!='PÚBLICO EM GERAL - MENOR DE 18 ANOS')&(data['dose'] == 4)"
   ]
  },
  {
   "cell_type": "markdown",
   "id": "dd09f21e",
   "metadata": {},
   "source": [
    "Gráfico em barra mostrando a diferença do número de vacinas tomadas, onde a quarta dose foi a menos tomada"
   ]
  },
  {
   "cell_type": "code",
   "execution_count": null,
   "id": "045344e4",
   "metadata": {},
   "outputs": [],
   "source": [
    "#número de vacinas tomadas divido por doses\n",
    "qtdprioritario_1dose = (data[grupo_prioritario_1dose].count()[0])\n",
    "qtdprioritario_2dose = (data[grupo_prioritario_2dose].count()[0])\n",
    "qtdprioritario_3dose = (data[grupo_prioritario_3dose].count()[0])\n",
    "qtdprioritario_4dose = (data[grupo_prioritario_4dose].count()[0])\n",
    "#quantidade em porcetagem com limite de duas casas decimais\n",
    "qtdprioritario_1dose_porcentagem = round(((data[grupo_prioritario_1dose].count()[0])/qtdgrupo_prioritario)*100, 2)\n",
    "qtdprioritario_2dose_porcentagem = round(((data[grupo_prioritario_2dose].count()[0])/qtdgrupo_prioritario)*100, 2)\n",
    "qtdprioritario_3dose_porcentagem = round(((data[grupo_prioritario_3dose].count()[0])/qtdgrupo_prioritario)*100, 2)\n",
    "qtdprioritario_4dose_porcentagem = round(((data[grupo_prioritario_4dose].count()[0])/qtdgrupo_prioritario)*100, 2)\n",
    "\n",
    "height = [qtdprioritario_1dose_porcentagem, qtdprioritario_2dose_porcentagem, qtdprioritario_3dose_porcentagem, qtdprioritario_4dose_porcentagem]\n",
    "bars = ('1º dose', '2º dose', '3º dose', '4º dose')\n",
    "\n",
    "x_pos = np.arange(len(bars))\n",
    "fig, ax = plt.subplots(figsize=(12, 8.5))\n",
    "plt.bar(x_pos, height, color=['steelblue', 'red', 'silver', 'pink'], width = 0.6)\n",
    "plt.title('Grupos prioritários vacinação - Total (%)')\n",
    "plt.xticks(x_pos, bars)\n",
    "plt.show() \n",
    "print(f'Quantidade de vacinas da 1ª dose tomadas pelos grupos prioritários: {qtdprioritario_1dose} - {qtdprioritario_1dose_porcentagem}%')\n",
    "print(f'Quantidade de vacinas da 2ª dose tomadas pelos grupos prioritários: {qtdprioritario_2dose} - {qtdprioritario_2dose_porcentagem}%')\n",
    "print(f'Quantidade de vacinas da 3ª dose tomadas pelos grupos prioritários: {qtdprioritario_3dose} - {qtdprioritario_3dose_porcentagem}%')\n",
    "print(f'Quantidade de vacinas da 4ª dose tomadas pelos grupos prioritários: {qtdprioritario_4dose} - {qtdprioritario_4dose_porcentagem}%')"
   ]
  },
  {
   "cell_type": "markdown",
   "id": "83830ffb",
   "metadata": {},
   "source": [
    "A partir do gráfico em barras percebe-se a grande variação no número de vacinas aplicadas entre as doses. "
   ]
  },
  {
   "cell_type": "markdown",
   "id": "8e9734fe",
   "metadata": {},
   "source": [
    "Divisão dos 5 grupos prioritários que mais tomaram vacinas e o restante dos grupos classificados como \"outros\" - 1ª dose"
   ]
  },
  {
   "cell_type": "code",
   "execution_count": null,
   "id": "e7b981ab",
   "metadata": {},
   "outputs": [],
   "source": [
    "idosos_1dose = (data['grupo'] == 'IDOSOS')&(data['dose'] == 1)\n",
    "trabalhores_saude_1dose = (data['grupo'] == 'TRABALHADORES DA SAÚDE')&(data['dose'] == 1)\n",
    "pessosas_comorbidade_1dose = (data['grupo'] == 'PESSOAS COM COMORBIDADES')&(data['dose'] == 1)\n",
    "trabalhores_educacao_1dose = (data['grupo'] == 'TRABALHADORES DA EDUCAÇÃO')&(data['dose'] == 1)\n",
    "gestantes_e_puerperas_1dose = (data['grupo'] == 'GESTANTES E PUÉRPERAS')&(data['dose'] == 1)\n",
    "outros_1dose = (data['grupo'] != 'IDOSOS')&(data['grupo'] != 'TRABALHADORES DA SAÚDE')&(data['grupo'] != 'PESSOAS COM COMORBIDADES')&(data['grupo'] != 'TRABALHADORES DA EDUCAÇÃO')&(data['grupo'] != 'GESTANTES E PUÉRPERAS')&(data['grupo']!='PÚBLICO EM GERAL (18 a 59 anos)') & (data['grupo']!='CRIANÇAS DE 05 A 11 ANOS') & (data['grupo']!='CRIANÇAS DE 03 E 04 ANOS') & (data['grupo']!='PÚBLICO EM GERAL - MENOR DE 18 ANOS')&(data['dose'] == 1)"
   ]
  },
  {
   "cell_type": "markdown",
   "id": "5dc38276",
   "metadata": {},
   "source": [
    "Gráfico em pizza mostrando, em porcetagem, a quantidade de vacinas tomadas por grupos na primeira dose"
   ]
  },
  {
   "cell_type": "code",
   "execution_count": null,
   "id": "4a915ba4",
   "metadata": {},
   "outputs": [],
   "source": [
    "qtdidosos_1dose = data[idosos_1dose].count()[0]\n",
    "qtdtrabalhores_saude_1dose = data[trabalhores_saude_1dose].count()[0]\n",
    "qtdpessosas_comorbidade_1dose = data[pessosas_comorbidade_1dose].count()[0]\n",
    "qtdtrabalhores_educacao_1dose = data[trabalhores_educacao_1dose].count()[0]\n",
    "qtdgestantes_e_puerperas_1dose = data[gestantes_e_puerperas_1dose].count()[0]\n",
    "qtdoutros_1dose = data[outros_1dose].count()[0]\n",
    "\n",
    "valores = [qtdidosos_1dose, qtdtrabalhores_saude_1dose, qtdpessosas_comorbidade_1dose, qtdtrabalhores_educacao_1dose, qtdgestantes_e_puerperas_1dose, qtdoutros_1dose]\n",
    "rotulos = ['Idosos','Trabalhores da saúde', 'Pessoas com comorbidades', 'Trabalhadores da educação', 'Gestantes e puérperas', 'Outros']\n",
    "\n",
    "fig1, ax2 = plt.subplots(figsize=(15, 7))\n",
    "plt.rcParams['xtick.labelsize'] = 12\n",
    "wedges, texts, autotexts = ax2.pie(x=valores, labels=rotulos, autopct='%1.1f%%', shadow=False, startangle=45, colors = ['steelblue', 'red', 'silver', 'pink', 'lightgreen', 'plum'], explode=(0.07, 0.07, 0.07, 0.07, 0.07, 0.07))\n",
    "plt.setp(autotexts,size=15)\n",
    "plt.title('Grupos prioritários - 1ª dose')\n",
    "ax2.axis('equal')\n",
    "plt.show()\n",
    "print(f'Número de vacinas aplicadas em idosos na primeira dose: {qtdidosos_1dose}')\n",
    "print(f'Número de vacinas aplicadas em trabalhadores da saúde na primeira dose: {qtdtrabalhores_saude_1dose}')\n",
    "print(f'Número de vacinas aplicadas em pessoas com comorbidades na primeira dose: {qtdpessosas_comorbidade_1dose}')\n",
    "print(f'Número de vacinas aplicadas em trabalhadores da educação na primeira dose: {qtdtrabalhores_educacao_1dose}')\n",
    "print(f'Número de vacinas aplicadas em gestantes e puérperas na primeira dose: {qtdgestantes_e_puerperas_1dose}')\n",
    "print(f'Número de vacinas aplicadas em outros grupos prioritários na primeira dose: {qtdoutros_1dose}')"
   ]
  },
  {
   "cell_type": "markdown",
   "id": "2b2e41d1",
   "metadata": {},
   "source": [
    "Na primeira dose, o grupo dos idosos foi o que mais tomou vacina dentre os grupos prioritários, vindo em segundo lugar o dos trabalhadores da saúde e segundo pessoas com comorbidades. "
   ]
  },
  {
   "cell_type": "markdown",
   "id": "1f699f04",
   "metadata": {},
   "source": [
    "Divisão dos 5 grupos prioritários que mais tomaram vacinas e o restante dos grupos classificados como \"outros\" - 2ª dose"
   ]
  },
  {
   "cell_type": "code",
   "execution_count": null,
   "id": "bac8341b",
   "metadata": {},
   "outputs": [],
   "source": [
    "idosos_2dose = (data['grupo'] == 'IDOSOS')&(data['dose'] == 2)\n",
    "trabalhores_saude_2dose = (data['grupo'] == 'TRABALHADORES DA SAÚDE')&(data['dose'] == 2)\n",
    "pessosas_comorbidade_2dose = (data['grupo'] == 'PESSOAS COM COMORBIDADES')&(data['dose'] == 2)\n",
    "trabalhores_educacao_2dose = (data['grupo'] == 'TRABALHADORES DA EDUCAÇÃO')&(data['dose'] == 2)\n",
    "gestantes_e_puerperas_2dose = (data['grupo'] == 'GESTANTES E PUÉRPERAS')&(data['dose'] == 2)\n",
    "outros_2dose = (data['grupo'] != 'IDOSOS')&(data['grupo'] != 'TRABALHADORES DA SAÚDE')&(data['grupo'] != 'PESSOAS COM COMORBIDADES')&(data['grupo'] != 'TRABALHADORES DA EDUCAÇÃO')&(data['grupo'] != 'GESTANTES E PUÉRPERAS')&(data['grupo']!='PÚBLICO EM GERAL (18 a 59 anos)') & (data['grupo']!='CRIANÇAS DE 05 A 11 ANOS') & (data['grupo']!='CRIANÇAS DE 03 E 04 ANOS') & (data['grupo']!='PÚBLICO EM GERAL - MENOR DE 18 ANOS')&(data['dose'] == 2)"
   ]
  },
  {
   "cell_type": "markdown",
   "id": "a93d5e7d",
   "metadata": {},
   "source": [
    "Gráfico em pizza mostrando, em porcetagem, a quantidade de vacinas tomadas por grupos na segunda dose"
   ]
  },
  {
   "cell_type": "code",
   "execution_count": null,
   "id": "61ae9098",
   "metadata": {},
   "outputs": [],
   "source": [
    "qtdidosos_2dose = data[idosos_2dose].count()[0]\n",
    "qtdtrabalhores_saude_2dose = data[trabalhores_saude_2dose].count()[0]\n",
    "qtdpessosas_comorbidade_2dose = data[pessosas_comorbidade_2dose].count()[0]\n",
    "qtdtrabalhores_educacao_2dose = data[trabalhores_educacao_2dose].count()[0]\n",
    "qtdgestantes_e_puerperas_2dose = data[gestantes_e_puerperas_2dose].count()[0]\n",
    "qtdoutros_2dose = data[outros_2dose].count()[0]\n",
    "\n",
    "valores = [qtdidosos_2dose, qtdtrabalhores_saude_2dose, qtdpessosas_comorbidade_2dose, qtdtrabalhores_educacao_2dose, qtdgestantes_e_puerperas_2dose, qtdoutros_2dose]\n",
    "rotulos = ['Idosos','Trabalhores da saúde', 'Pessoas com comorbidades', 'Trabalhadores da educação', 'Gestantes e puérperas', 'Outros']\n",
    "\n",
    "fig1, ax2 = plt.subplots(figsize=(15, 7))\n",
    "plt.rcParams['xtick.labelsize'] = 12\n",
    "wedges, texts, autotexts = ax2.pie(x=valores, labels=rotulos, autopct='%1.1f%%', shadow=False, startangle=45, colors = ['steelblue', 'red', 'silver', 'pink', 'lightgreen', 'plum'], explode=(0.07, 0.07, 0.07, 0.07, 0.07, 0.07))\n",
    "plt.setp(autotexts,size=15)\n",
    "plt.title('Grupos prioritários - 2ª dose')\n",
    "ax2.axis('equal')\n",
    "plt.show()\n",
    "print(f'Número de vacinas aplicadas em idosos na segunda dose: {qtdidosos_2dose}')\n",
    "print(f'Número de vacinas aplicadas em trabalhadores da saúde na segunda dose: {qtdtrabalhores_saude_2dose}')\n",
    "print(f'Número de vacinas aplicadas em pessoas com comorbidades na segunda dose: {qtdpessosas_comorbidade_2dose}')\n",
    "print(f'Número de vacinas aplicadas em trabalhadores da educação na segunda dose: {qtdtrabalhores_educacao_2dose}')\n",
    "print(f'Número de vacinas aplicadas em gestantes e puérperas na segunda dose: {qtdgestantes_e_puerperas_2dose}')\n",
    "print(f'Número de vacinas aplicadas em outros grupos prioritários na segunda dose: {qtdoutros_2dose}')"
   ]
  },
  {
   "cell_type": "markdown",
   "id": "98b2cf93",
   "metadata": {},
   "source": [
    "Na segunda dose da vacina os idosos continuam sendo a maioria dentre os prioritários. "
   ]
  },
  {
   "cell_type": "markdown",
   "id": "1586fa5a",
   "metadata": {},
   "source": [
    "Divisão dos 5 grupos prioritários que mais tomaram vacinas e o restante dos grupos classificados como \"outros\" - 3ª dose"
   ]
  },
  {
   "cell_type": "code",
   "execution_count": null,
   "id": "d7b58abe",
   "metadata": {},
   "outputs": [],
   "source": [
    "idosos_3dose = (data['grupo'] == 'IDOSOS')&(data['dose'] == 3)\n",
    "trabalhores_saude_3dose = (data['grupo'] == 'TRABALHADORES DA SAÚDE')&(data['dose'] == 3)\n",
    "pessosas_comorbidade_3dose = (data['grupo'] == 'PESSOAS COM COMORBIDADES')&(data['dose'] == 3)\n",
    "trabalhores_educacao_3dose = (data['grupo'] == 'TRABALHADORES DA EDUCAÇÃO')&(data['dose'] == 3)\n",
    "gestantes_e_puerperas_3dose = (data['grupo'] == 'GESTANTES E PUÉRPERAS')&(data['dose'] == 3)\n",
    "outros_3dose = (data['grupo'] != 'IDOSOS')&(data['grupo'] != 'TRABALHADORES DA SAÚDE')&(data['grupo'] != 'PESSOAS COM COMORBIDADES')&(data['grupo'] != 'TRABALHADORES DA EDUCAÇÃO')&(data['grupo'] != 'GESTANTES E PUÉRPERAS')&(data['grupo']!='PÚBLICO EM GERAL (18 a 59 anos)') & (data['grupo']!='CRIANÇAS DE 05 A 11 ANOS') & (data['grupo']!='CRIANÇAS DE 03 E 04 ANOS') & (data['grupo']!='PÚBLICO EM GERAL - MENOR DE 18 ANOS')&(data['dose'] == 3)"
   ]
  },
  {
   "cell_type": "markdown",
   "id": "f34fa102",
   "metadata": {},
   "source": [
    "Gráfico em pizza mostrando, em porcetagem, a quantidade de vacinas tomadas por grupos na terceira dose"
   ]
  },
  {
   "cell_type": "code",
   "execution_count": null,
   "id": "c5925bf8",
   "metadata": {},
   "outputs": [],
   "source": [
    "qtdidosos_3dose = data[idosos_3dose].count()[0]\n",
    "qtdtrabalhores_saude_3dose = data[trabalhores_saude_3dose].count()[0]\n",
    "qtdpessosas_comorbidade_3dose = data[pessosas_comorbidade_3dose].count()[0]\n",
    "qtdtrabalhores_educacao_3dose = data[trabalhores_educacao_3dose].count()[0]\n",
    "qtdgestantes_e_puerperas_3dose = data[gestantes_e_puerperas_3dose].count()[0]\n",
    "qtdoutros_3dose = data[outros_3dose].count()[0]\n",
    "\n",
    "valores = [qtdidosos_3dose, qtdtrabalhores_saude_3dose, qtdpessosas_comorbidade_3dose, qtdtrabalhores_educacao_3dose, qtdgestantes_e_puerperas_3dose, qtdoutros_3dose]\n",
    "rotulos = ['Idosos','Trabalhores da saúde', 'Pessoas com comorbidades', 'Trabalhadores da educação', 'Gestantes e puérperas', 'Outros']\n",
    "\n",
    "fig1, ax2 = plt.subplots(figsize=(15, 7))\n",
    "plt.rcParams['xtick.labelsize'] = 12\n",
    "wedges, texts, autotexts = ax2.pie(x=valores, labels=rotulos, autopct='%1.1f%%', shadow=False, startangle=30, colors = ['steelblue', 'red', 'silver', 'pink', 'lightgreen', 'plum'], explode=(0.07, 0.07, 0.07, 0.07, 0.07, 0.07))\n",
    "plt.setp(autotexts,size=15)\n",
    "plt.title('Grupos prioritários - 3ª dose')\n",
    "ax2.axis('equal')\n",
    "plt.show()\n",
    "print(f'Número de vacinas aplicadas em idosos na terceira dose: {qtdidosos_3dose}')\n",
    "print(f'Número de vacinas aplicadas em trabalhadores da saúde na terceira dose: {qtdtrabalhores_saude_3dose}')\n",
    "print(f'Número de vacinas aplicadas em pessoas com comorbidades na terceira dose: {qtdpessosas_comorbidade_3dose}')\n",
    "print(f'Número de vacinas aplicadas em trabalhadores da educação na terceira dose: {qtdtrabalhores_educacao_3dose}')\n",
    "print(f'Número de vacinas aplicadas em gestantes e puérperas na terceira dose: {qtdgestantes_e_puerperas_3dose}')\n",
    "print(f'Número de vacinas aplicadas em outros grupos prioritários na terceira dose: {qtdoutros_3dose}')"
   ]
  },
  {
   "cell_type": "markdown",
   "id": "1afbf332",
   "metadata": {},
   "source": [
    "Na terceira dose houve uma redução significativa do número de vacinas aplicadas nos outros grupos prioritários. Dessa vez os idosos representam o grupo prioritário em mais da metade no número de vacinas tomadas."
   ]
  },
  {
   "cell_type": "markdown",
   "id": "a03ea84c",
   "metadata": {},
   "source": [
    "Divisão dos 5 grupos prioritários que mais tomaram vacinas e o restante dos grupos classificados como \"outros\" - 4ª dose"
   ]
  },
  {
   "cell_type": "code",
   "execution_count": null,
   "id": "f9afd4d2",
   "metadata": {},
   "outputs": [],
   "source": [
    "pessosas_comorbidade_4dose = (data['grupo'] == 'PESSOAS COM COMORBIDADES')&(data['dose'] == 4)\n",
    "outros_4dose = (data['grupo'] != 'PESSOAS COM COMORBIDADES')&(data['grupo']!='PÚBLICO EM GERAL (18 a 59 anos)') & (data['grupo']!='CRIANÇAS DE 05 A 11 ANOS') & (data['grupo']!='CRIANÇAS DE 03 E 04 ANOS') & (data['grupo']!='PÚBLICO EM GERAL - MENOR DE 18 ANOS')&(data['dose'] == 4)"
   ]
  },
  {
   "cell_type": "markdown",
   "id": "07efd6d0",
   "metadata": {},
   "source": [
    "Gráfico em pizza mostrando, em porcetagem, a quantidade de vacinas tomadas por grupos na quarta dose"
   ]
  },
  {
   "cell_type": "code",
   "execution_count": null,
   "id": "da6329ee",
   "metadata": {},
   "outputs": [],
   "source": [
    "qtdpessosas_comorbidade_4dose = data[pessosas_comorbidade_4dose].count()[0]\n",
    "qtdoutros_4dose = data[outros_4dose].count()[0]\n",
    "\n",
    "valores = [ qtdpessosas_comorbidade_4dose, qtdoutros_4dose]\n",
    "rotulos = ['Pessoas com comorbidades', 'Outros']\n",
    "\n",
    "fig1, ax2 = plt.subplots(figsize=(15, 7))\n",
    "plt.rcParams['xtick.labelsize'] = 12\n",
    "wedges, texts, autotexts = ax2.pie(x=valores, labels=rotulos, autopct='%1.1f%%', shadow=False, startangle=45, colors = ['steelblue', 'red'], explode=(0.07, 0.07))\n",
    "plt.setp(autotexts,size=15)\n",
    "plt.title('Grupos prioritários - 4ª dose')\n",
    "ax2.axis('equal')\n",
    "plt.show()\n",
    "print(f'Número de vacinas aplicadas em pessoas com comorbidades na quarta dose: {qtdpessosas_comorbidade_4dose}')\n",
    "print(f'Número de vacinas aplicadas em outros grupos prioritários na quarta dose: {qtdoutros_4dose}')"
   ]
  },
  {
   "cell_type": "markdown",
   "id": "c0dc8e4b",
   "metadata": {},
   "source": [
    "Como na quarta dose houve uma redução significativa do número de vacinas aplicadas, então se foi divido em apenas dois, o de pessoas com comorbidades, no qual foi o grupo de prioritários que mais tomou vacina, e o restante em \"outros\"."
   ]
  },
  {
   "cell_type": "markdown",
   "id": "350eeaae",
   "metadata": {},
   "source": [
    "Na quarta dose, o grupo de pessoas com comorbidades represeta o grupo prioritário em quase 100%. "
   ]
  },
  {
   "cell_type": "code",
   "execution_count": null,
   "id": "0a28d524",
   "metadata": {},
   "outputs": [],
   "source": []
  }
 ],
 "metadata": {
  "kernelspec": {
   "display_name": "Python 3 (ipykernel)",
   "language": "python",
   "name": "python3"
  },
  "language_info": {
   "codemirror_mode": {
    "name": "ipython",
    "version": 3
   },
   "file_extension": ".py",
   "mimetype": "text/x-python",
   "name": "python",
   "nbconvert_exporter": "python",
   "pygments_lexer": "ipython3",
   "version": "3.10.5"
  },
  "vscode": {
   "interpreter": {
    "hash": "67a103bd53d19e5b15727c026c6b367086d62a3240f0927be308c8ed52979058"
   }
  }
 },
 "nbformat": 4,
 "nbformat_minor": 5
}

{
 "cells": [
  {
   "cell_type": "markdown",
   "id": "15125ddb",
   "metadata": {},
   "source": [
    "# Análise por grupos"
   ]
  },
  {
   "cell_type": "code",
   "execution_count": 3,
   "id": "8b28d1c5",
   "metadata": {},
   "outputs": [
    {
     "data": {
      "text/html": [
       "<div>\n",
       "<style scoped>\n",
       "    .dataframe tbody tr th:only-of-type {\n",
       "        vertical-align: middle;\n",
       "    }\n",
       "\n",
       "    .dataframe tbody tr th {\n",
       "        vertical-align: top;\n",
       "    }\n",
       "\n",
       "    .dataframe thead th {\n",
       "        text-align: right;\n",
       "    }\n",
       "</style>\n",
       "<table border=\"1\" class=\"dataframe\">\n",
       "  <thead>\n",
       "    <tr style=\"text-align: right;\">\n",
       "      <th></th>\n",
       "      <th>grupo</th>\n",
       "      <th>dose</th>\n",
       "    </tr>\n",
       "  </thead>\n",
       "  <tbody>\n",
       "    <tr>\n",
       "      <th>0</th>\n",
       "      <td>TRABALHADORES INDUSTRIAIS E BANCÁRIOS</td>\n",
       "      <td>2.0</td>\n",
       "    </tr>\n",
       "    <tr>\n",
       "      <th>1</th>\n",
       "      <td>TRABALHADORES INDUSTRIAIS E BANCÁRIOS</td>\n",
       "      <td>1.0</td>\n",
       "    </tr>\n",
       "    <tr>\n",
       "      <th>2</th>\n",
       "      <td>TRABALHADORES DA SAÚDE</td>\n",
       "      <td>2.0</td>\n",
       "    </tr>\n",
       "    <tr>\n",
       "      <th>3</th>\n",
       "      <td>TRABALHADORES DA SAÚDE</td>\n",
       "      <td>1.0</td>\n",
       "    </tr>\n",
       "    <tr>\n",
       "      <th>4</th>\n",
       "      <td>TRABALHADORES DA SAÚDE</td>\n",
       "      <td>3.0</td>\n",
       "    </tr>\n",
       "    <tr>\n",
       "      <th>...</th>\n",
       "      <td>...</td>\n",
       "      <td>...</td>\n",
       "    </tr>\n",
       "    <tr>\n",
       "      <th>3407292</th>\n",
       "      <td>IDOSOS</td>\n",
       "      <td>1.0</td>\n",
       "    </tr>\n",
       "    <tr>\n",
       "      <th>3407293</th>\n",
       "      <td>IDOSOS</td>\n",
       "      <td>3.0</td>\n",
       "    </tr>\n",
       "    <tr>\n",
       "      <th>3407294</th>\n",
       "      <td>IDOSOS</td>\n",
       "      <td>2.0</td>\n",
       "    </tr>\n",
       "    <tr>\n",
       "      <th>3407295</th>\n",
       "      <td>IDOSOS</td>\n",
       "      <td>3.0</td>\n",
       "    </tr>\n",
       "    <tr>\n",
       "      <th>3407296</th>\n",
       "      <td>IDOSOS</td>\n",
       "      <td>1.0</td>\n",
       "    </tr>\n",
       "  </tbody>\n",
       "</table>\n",
       "<p>3407297 rows × 2 columns</p>\n",
       "</div>"
      ],
      "text/plain": [
       "                                         grupo  dose\n",
       "0        TRABALHADORES INDUSTRIAIS E BANCÁRIOS   2.0\n",
       "1        TRABALHADORES INDUSTRIAIS E BANCÁRIOS   1.0\n",
       "2                       TRABALHADORES DA SAÚDE   2.0\n",
       "3                       TRABALHADORES DA SAÚDE   1.0\n",
       "4                       TRABALHADORES DA SAÚDE   3.0\n",
       "...                                        ...   ...\n",
       "3407292                                 IDOSOS   1.0\n",
       "3407293                                 IDOSOS   3.0\n",
       "3407294                                 IDOSOS   2.0\n",
       "3407295                                 IDOSOS   3.0\n",
       "3407296                                 IDOSOS   1.0\n",
       "\n",
       "[3407297 rows x 2 columns]"
      ]
     },
     "execution_count": 3,
     "metadata": {},
     "output_type": "execute_result"
    }
   ],
   "source": [
    "import pandas as pd\n",
    "import matplotlib\n",
    "import matplotlib.pyplot as plt\n",
    "import numpy as np\n",
    "data_ = pd.read_csv('vacinados.csv', encoding = \"UTF-8\", sep=\";\")\n",
    "\n",
    "#remoção de colunas indesejadas\n",
    "dt = data_.drop(columns=['cpf','nome','sexo','vacina','lote','data_vacinacao','local_vacinacao',])\n",
    "\n",
    "#remoção de valores ausentes\n",
    "data = dt.dropna()\n",
    "data"
   ]
  },
  {
   "cell_type": "code",
   "execution_count": 4,
   "id": "7e696782",
   "metadata": {},
   "outputs": [],
   "source": [
    "grupo_comum_total = (data['grupo'] != 'IDOSOS')&(data['grupo'] != 'PESSOAS COM DEFICIÊNCIA - 12 A 17 ANOS')&(data['grupo'] != 'CRIANÇAS DE 05 A 11 ANOS - Síndrome de Down')&(data['grupo'] != 'SESAU - BUSCA ATIVA')&(data['grupo'] != 'TRABALHADORES DA SAÚDE')&(data['grupo'] != 'TRABALHADORES DA LIMPEZA URBANA')&(data['grupo'] != 'TRABALHADORES DA EDUCAÇÃO')&(data['grupo'] != 'TRABALHADORES INDUSTRIAIS E BANCÁRIOS')&(data['grupo'] != 'GESTANTES E PUÉRPERAS')&(data['grupo'] != 'GESTANTES E PUÉRPERAS - 12 A 17 ANOS')&(data['grupo'] != 'GESTANTES E PUÉRPERAS NÃO RESIDENTES EM RECIFE')&(data['grupo'] != 'OUTRAS PRIORIDADES')&(data['grupo'] != 'PESSOAS COM COMORBIDADES')&(data['grupo'] != 'PESSOAS EM SITUAÇÃO DE RUA')&(data['grupo'] != 'CAMINHONEIROS')&(data['grupo'] != 'TRABALHADORES DE TRANSPORTE AÉREO')&(data['grupo'] != 'TRABALHADORES DA ASSISTÊNCIA SOCIAL')&(data['grupo'] != 'TRABALHADORES PORTUÁRIOS')&(data['grupo'] != 'TRABALHADORES DE TRANSPORTE METROVIÁRIO E FERROVIÁRIO')&(data['grupo'] != 'TRABALHADORES DE TRANSPORTE COLETIVO RODOVIÁRIO')&(data['grupo'] != 'TRABALHADORES DE TRANSPORTE AQUAVIÁRIO')&(data['grupo'] != 'CRIANÇAS DE 05 A 11 ANOS - Prioritárias')&(data['grupo'] != 'PESSOAS COM COMORBIDADES - 12 A 17 ANOS')&(data['grupo'] != 'PESSOAS COM VIAGEM PARA EXTERIOR (ESTUDO/PESQUISA/TRABALHO/TRATAMENTO DE SAÚDE)')\n",
    "grupo_prioritario_total = (data['grupo']!='PÚBLICO EM GERAL (18 a 59 anos)') & (data['grupo']!='CRIANÇAS DE 05 A 11 ANOS') & (data['grupo']!='CRIANÇAS DE 03 E 04 ANOS') & (data['grupo']!='PÚBLICO EM GERAL - MENOR DE 18 ANOS')\n",
    "grupo_prioritario_1dose = (data['grupo']!='PÚBLICO EM GERAL (18 a 59 anos)') & (data['grupo']!='CRIANÇAS DE 05 A 11 ANOS') & (data['grupo']!='CRIANÇAS DE 03 E 04 ANOS') & (data['grupo']!='PÚBLICO EM GERAL - MENOR DE 18 ANOS')&(data['dose'] == 1)\n",
    "grupo_prioritario_2dose = (data['grupo']!='PÚBLICO EM GERAL (18 a 59 anos)') & (data['grupo']!='CRIANÇAS DE 05 A 11 ANOS') & (data['grupo']!='CRIANÇAS DE 03 E 04 ANOS') & (data['grupo']!='PÚBLICO EM GERAL - MENOR DE 18 ANOS')&(data['dose'] == 2)\n",
    "grupo_prioritario_3dose = (data['grupo']!='PÚBLICO EM GERAL (18 a 59 anos)') & (data['grupo']!='CRIANÇAS DE 05 A 11 ANOS') & (data['grupo']!='CRIANÇAS DE 03 E 04 ANOS') & (data['grupo']!='PÚBLICO EM GERAL - MENOR DE 18 ANOS')&(data['dose'] == 3)\n",
    "grupo_prioritario_4dose = (data['grupo']!='PÚBLICO EM GERAL (18 a 59 anos)') & (data['grupo']!='CRIANÇAS DE 05 A 11 ANOS') & (data['grupo']!='CRIANÇAS DE 03 E 04 ANOS') & (data['grupo']!='PÚBLICO EM GERAL - MENOR DE 18 ANOS')&(data['dose'] == 4)"
   ]
  },
  {
   "cell_type": "code",
   "execution_count": null,
   "id": "c2c7fe69",
   "metadata": {},
   "outputs": [],
   "source": [
    "Gráfico de \"pizza\" para melhor visualização da vacinação de grupos comuns x grupos prioritários"
   ]
  },
  {
   "cell_type": "code",
   "execution_count": 5,
   "id": "675f24d4",
   "metadata": {},
   "outputs": [
    {
     "data": {
      "image/png": "[encoded data removed]",
      "text/plain": [
       "<Figure size 432x288 with 1 Axes>"
      ]
     },
     "metadata": {},
     "output_type": "display_data"
    }
   ],
   "source": [
    "qtdgrupo_comum = data[grupo_comum_total].count()[0]\n",
    "qtdgrupo_prioritario = data[grupo_prioritario_total].count()[0]\n",
    "\n",
    "valores = [qtdgrupo_comum, qtdgrupo_prioritario]\n",
    "rotulos = ['Grupo comum','Grupo prioritário']\n",
    "\n",
    "fig1, ax2 = plt.subplots()\n",
    "plt.rcParams['xtick.labelsize'] = 12\n",
    "ax2.pie(x=valores, labels=rotulos, autopct='%1.1f%%', shadow=False, startangle=90, colors = ['steelblue', 'red'], explode=(0.05, 0.05))\n",
    "plt.title('Grupos vacinação - Total')\n",
    "ax2.axis('equal')\n",
    "plt.show()"
   ]
  },
  {
   "cell_type": "code",
   "execution_count": 6,
   "id": "045344e4",
   "metadata": {},
   "outputs": [
    {
     "data": {
      "image/png": "[encoded data removed]",
      "text/plain": [
       "<Figure size 432x288 with 1 Axes>"
      ]
     },
     "metadata": {
      "needs_background": "light"
     },
     "output_type": "display_data"
    }
   ],
   "source": [
    "qtdprioritario_1dose = ((data[grupo_prioritario_1dose].count()[0])/qtdgrupo_prioritario)*100\n",
    "qtdprioritario_2dose = ((data[grupo_prioritario_2dose].count()[0])/qtdgrupo_prioritario)*100\n",
    "qtdprioritario_3dose = ((data[grupo_prioritario_3dose].count()[0])/qtdgrupo_prioritario)*100\n",
    "qtdprioritario_4dose = ((data[grupo_prioritario_4dose].count()[0])/qtdgrupo_prioritario)*100\n",
    "\n",
    "height = [qtdprioritario_1dose, qtdprioritario_2dose, qtdprioritario_3dose, qtdprioritario_4dose]\n",
    "bars = ('1º dose', '2º dose', '3º dose', '4º dose')\n",
    "x_pos = np.arange(len(bars))\n",
    "\n",
    "plt.bar(x_pos, height, color=['steelblue', 'red', 'silver', 'pink'], width = 0.6)\n",
    "plt.title('Grupo prioritário vacinação - Total (%)')\n",
    "plt.xticks(x_pos, bars)\n",
    "plt.show()"
   ]
  },
  {
   "cell_type": "code",
   "execution_count": null,
   "id": "e7b981ab",
   "metadata": {},
   "outputs": [],
   "source": []
  }
 ],
 "metadata": {
  "kernelspec": {
   "display_name": "Python 3 (ipykernel)",
   "language": "python",
   "name": "python3"
  },
  "language_info": {
   "codemirror_mode": {
    "name": "ipython",
    "version": 3
   },
   "file_extension": ".py",
   "mimetype": "text/x-python",
   "name": "python",
   "nbconvert_exporter": "python",
   "pygments_lexer": "ipython3",
   "version": "3.10.5"
  }
 },
 "nbformat": 4,
 "nbformat_minor": 5
}

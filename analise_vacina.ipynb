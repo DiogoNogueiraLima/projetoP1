{
 "cells": [
  {
   "cell_type": "markdown",
   "id": "bed7fd15-783f-4b2e-a2be-989a0a8a4a7f",
   "metadata": {},
   "source": [
    "# Análise quantitativa dos tipos de vacinas aplicadas em Recife-PE"
   ]
  },
  {
   "cell_type": "markdown",
   "id": "2ab3b423-9f42-4de4-b68a-2b74037443c8",
   "metadata": {},
   "source": [
    "# Primeiros passos\n",
    "Realizaremos a importação das bibliotecas que serão utilizadas na análise."
   ]
  },
  {
   "cell_type": "code",
   "execution_count": 2,
   "id": "78ae2f75-a672-46e5-96af-52a94c4287e4",
   "metadata": {},
   "outputs": [],
   "source": [
    "import pandas as pd\n",
    "import matplotlib.pyplot as plt  \n",
    "import seaborn as sns"
   ]
  },
  {
   "cell_type": "markdown",
   "id": "02d825f5-f424-4d67-8161-f8bd661a2f20",
   "metadata": {},
   "source": [
    "A seguir, importaremos os dados em csv e visualizaremos eles."
   ]
  },
  {
   "cell_type": "code",
   "execution_count": 21,
   "id": "ec96c6fa-18e5-49ce-b87e-919424177af6",
   "metadata": {},
   "outputs": [
    {
     "data": {
      "text/html": [
       "<div>\n",
       "<style scoped>\n",
       "    .dataframe tbody tr th:only-of-type {\n",
       "        vertical-align: middle;\n",
       "    }\n",
       "\n",
       "    .dataframe tbody tr th {\n",
       "        vertical-align: top;\n",
       "    }\n",
       "\n",
       "    .dataframe thead th {\n",
       "        text-align: right;\n",
       "    }\n",
       "</style>\n",
       "<table border=\"1\" class=\"dataframe\">\n",
       "  <thead>\n",
       "    <tr style=\"text-align: right;\">\n",
       "      <th></th>\n",
       "      <th>cpf</th>\n",
       "      <th>nome</th>\n",
       "      <th>sexo</th>\n",
       "      <th>grupo</th>\n",
       "      <th>vacina</th>\n",
       "      <th>lote</th>\n",
       "      <th>dose</th>\n",
       "      <th>data_vacinacao</th>\n",
       "      <th>local_vacinacao</th>\n",
       "    </tr>\n",
       "  </thead>\n",
       "  <tbody>\n",
       "    <tr>\n",
       "      <th>0</th>\n",
       "      <td>***.574.544-**</td>\n",
       "      <td>AABAN VASCONCELOS ZYZZYAG</td>\n",
       "      <td>MASCULINO</td>\n",
       "      <td>TRABALHADORES INDUSTRIAIS E BANCÁRIOS</td>\n",
       "      <td>2 - CHADOX1NCOV-19 - OXFORD/ASTRAZENECA (FIOCRUZ)</td>\n",
       "      <td>219VCD270W</td>\n",
       "      <td>2.0</td>\n",
       "      <td>2021-10-19</td>\n",
       "      <td>DRIVE THRU PARQUE DE EXPOSIÇÃO</td>\n",
       "    </tr>\n",
       "    <tr>\n",
       "      <th>1</th>\n",
       "      <td>***.574.544-**</td>\n",
       "      <td>AABAN VASCONCELOS ZYZZYAG</td>\n",
       "      <td>MASCULINO</td>\n",
       "      <td>TRABALHADORES INDUSTRIAIS E BANCÁRIOS</td>\n",
       "      <td>2 - CHADOX1NCOV-19 - OXFORD/ASTRAZENECA (FIOCRUZ)</td>\n",
       "      <td>216VCD206Z</td>\n",
       "      <td>1.0</td>\n",
       "      <td>2021-07-26</td>\n",
       "      <td>DRIVE THRU PARQUE DE EXPOSIÇÃO</td>\n",
       "    </tr>\n",
       "    <tr>\n",
       "      <th>2</th>\n",
       "      <td>***.886.964-**</td>\n",
       "      <td>AAMANDA MARIA FREIRE DA SILVA</td>\n",
       "      <td>FEMININO</td>\n",
       "      <td>TRABALHADORES DA SAÚDE</td>\n",
       "      <td>1 - CORONAVAC - SINOVAC (BUTANTAN)</td>\n",
       "      <td>210043</td>\n",
       "      <td>2.0</td>\n",
       "      <td>2021-03-04</td>\n",
       "      <td>CENTRO DE VACINAÇÃO PARQUE DE EXPOSIÇÃO</td>\n",
       "    </tr>\n",
       "    <tr>\n",
       "      <th>3</th>\n",
       "      <td>***.886.964-**</td>\n",
       "      <td>AAMANDA MARIA FREIRE DA SILVA</td>\n",
       "      <td>FEMININO</td>\n",
       "      <td>TRABALHADORES DA SAÚDE</td>\n",
       "      <td>1 - CORONAVAC - SINOVAC (BUTANTAN)</td>\n",
       "      <td>210016</td>\n",
       "      <td>1.0</td>\n",
       "      <td>2021-02-11</td>\n",
       "      <td>CENTRO DE VACINAÇÃO COMPAZ MIGUEL ARRAES</td>\n",
       "    </tr>\n",
       "    <tr>\n",
       "      <th>4</th>\n",
       "      <td>***.886.964-**</td>\n",
       "      <td>AAMANDA MARIA FREIRE DA SILVA</td>\n",
       "      <td>FEMININO</td>\n",
       "      <td>TRABALHADORES DA SAÚDE</td>\n",
       "      <td>3 - COMIRNATY (PFIZER)</td>\n",
       "      <td>32010BD</td>\n",
       "      <td>3.0</td>\n",
       "      <td>2021-10-07</td>\n",
       "      <td>CENTRO DE VACINAÇÃO UNINASSAU</td>\n",
       "    </tr>\n",
       "  </tbody>\n",
       "</table>\n",
       "</div>"
      ],
      "text/plain": [
       "              cpf                           nome       sexo  \\\n",
       "0  ***.574.544-**      AABAN VASCONCELOS ZYZZYAG  MASCULINO   \n",
       "1  ***.574.544-**      AABAN VASCONCELOS ZYZZYAG  MASCULINO   \n",
       "2  ***.886.964-**  AAMANDA MARIA FREIRE DA SILVA   FEMININO   \n",
       "3  ***.886.964-**  AAMANDA MARIA FREIRE DA SILVA   FEMININO   \n",
       "4  ***.886.964-**  AAMANDA MARIA FREIRE DA SILVA   FEMININO   \n",
       "\n",
       "                                   grupo  \\\n",
       "0  TRABALHADORES INDUSTRIAIS E BANCÁRIOS   \n",
       "1  TRABALHADORES INDUSTRIAIS E BANCÁRIOS   \n",
       "2                 TRABALHADORES DA SAÚDE   \n",
       "3                 TRABALHADORES DA SAÚDE   \n",
       "4                 TRABALHADORES DA SAÚDE   \n",
       "\n",
       "                                              vacina         lote  dose  \\\n",
       "0  2 - CHADOX1NCOV-19 - OXFORD/ASTRAZENECA (FIOCRUZ)  219VCD270W    2.0   \n",
       "1  2 - CHADOX1NCOV-19 - OXFORD/ASTRAZENECA (FIOCRUZ)   216VCD206Z   1.0   \n",
       "2                 1 - CORONAVAC - SINOVAC (BUTANTAN)       210043   2.0   \n",
       "3                 1 - CORONAVAC - SINOVAC (BUTANTAN)       210016   1.0   \n",
       "4                             3 - COMIRNATY (PFIZER)      32010BD   3.0   \n",
       "\n",
       "  data_vacinacao                           local_vacinacao  \n",
       "0     2021-10-19            DRIVE THRU PARQUE DE EXPOSIÇÃO  \n",
       "1     2021-07-26            DRIVE THRU PARQUE DE EXPOSIÇÃO  \n",
       "2     2021-03-04   CENTRO DE VACINAÇÃO PARQUE DE EXPOSIÇÃO  \n",
       "3     2021-02-11  CENTRO DE VACINAÇÃO COMPAZ MIGUEL ARRAES  \n",
       "4     2021-10-07             CENTRO DE VACINAÇÃO UNINASSAU  "
      ]
     },
     "execution_count": 21,
     "metadata": {},
     "output_type": "execute_result"
    }
   ],
   "source": [
    "dt = pd.read_csv('vacinados.csv', encoding = \"UTF-8\", sep=\";\", header=0)\n",
    "dt.head()"
   ]
  },
  {
   "cell_type": "markdown",
   "id": "f522a0a0-b5ca-442d-9af7-feef0ee7fdc8",
   "metadata": {},
   "source": [
    "Agora, iremos retirar colunas que não serão utilizadas nessa análise, a fim de otimizar recursos e facilitar a visualização do DataFrame e removeremos os valores ausentes."
   ]
  },
  {
   "cell_type": "code",
   "execution_count": 24,
   "id": "0e0f4d35-9532-4a98-bf2b-2ddda50befb6",
   "metadata": {},
   "outputs": [
    {
     "data": {
      "text/html": [
       "<div>\n",
       "<style scoped>\n",
       "    .dataframe tbody tr th:only-of-type {\n",
       "        vertical-align: middle;\n",
       "    }\n",
       "\n",
       "    .dataframe tbody tr th {\n",
       "        vertical-align: top;\n",
       "    }\n",
       "\n",
       "    .dataframe thead th {\n",
       "        text-align: right;\n",
       "    }\n",
       "</style>\n",
       "<table border=\"1\" class=\"dataframe\">\n",
       "  <thead>\n",
       "    <tr style=\"text-align: right;\">\n",
       "      <th></th>\n",
       "      <th>vacina</th>\n",
       "      <th>dose</th>\n",
       "    </tr>\n",
       "  </thead>\n",
       "  <tbody>\n",
       "    <tr>\n",
       "      <th>0</th>\n",
       "      <td>2 - CHADOX1NCOV-19 - OXFORD/ASTRAZENECA (FIOCRUZ)</td>\n",
       "      <td>2.0</td>\n",
       "    </tr>\n",
       "    <tr>\n",
       "      <th>1</th>\n",
       "      <td>2 - CHADOX1NCOV-19 - OXFORD/ASTRAZENECA (FIOCRUZ)</td>\n",
       "      <td>1.0</td>\n",
       "    </tr>\n",
       "    <tr>\n",
       "      <th>2</th>\n",
       "      <td>1 - CORONAVAC - SINOVAC (BUTANTAN)</td>\n",
       "      <td>2.0</td>\n",
       "    </tr>\n",
       "    <tr>\n",
       "      <th>3</th>\n",
       "      <td>1 - CORONAVAC - SINOVAC (BUTANTAN)</td>\n",
       "      <td>1.0</td>\n",
       "    </tr>\n",
       "    <tr>\n",
       "      <th>4</th>\n",
       "      <td>3 - COMIRNATY (PFIZER)</td>\n",
       "      <td>3.0</td>\n",
       "    </tr>\n",
       "  </tbody>\n",
       "</table>\n",
       "</div>"
      ],
      "text/plain": [
       "                                              vacina  dose\n",
       "0  2 - CHADOX1NCOV-19 - OXFORD/ASTRAZENECA (FIOCRUZ)   2.0\n",
       "1  2 - CHADOX1NCOV-19 - OXFORD/ASTRAZENECA (FIOCRUZ)   1.0\n",
       "2                 1 - CORONAVAC - SINOVAC (BUTANTAN)   2.0\n",
       "3                 1 - CORONAVAC - SINOVAC (BUTANTAN)   1.0\n",
       "4                             3 - COMIRNATY (PFIZER)   3.0"
      ]
     },
     "execution_count": 24,
     "metadata": {},
     "output_type": "execute_result"
    }
   ],
   "source": [
    "data = dt.dropna()\n",
    "data = data.drop(columns=['cpf','nome','sexo','grupo','lote','data_vacinacao','local_vacinacao'])\n",
    "data.head()"
   ]
  },
  {
   "cell_type": "markdown",
   "id": "ca1864d6-e24c-49b0-9092-cce179f2561f",
   "metadata": {},
   "source": [
    "# Analise de doses de vacinas aplicadas"
   ]
  },
  {
   "cell_type": "code",
   "execution_count": 25,
   "id": "a5663ebb-b173-411b-99e5-33e04e2fa46a",
   "metadata": {},
   "outputs": [
    {
     "data": {
      "image/png": "[encoded data removed]",
      "text/plain": [
       "<Figure size 720x540 with 1 Axes>"
      ]
     },
     "metadata": {
      "needs_background": "light"
     },
     "output_type": "display_data"
    }
   ],
   "source": [
    "umaDose = data.loc[data['dose'] == 1]\n",
    "qtdRecebUmaDose = umaDose.count()[0]\n",
    "duasDoses = data.loc[data['dose'] == 2]\n",
    "qtdRecebDuasDoses = duasDoses.count()[0]\n",
    "tresDoses = data.loc[data['dose'] == 3]\n",
    "qtdRecebTresDoses = tresDoses.count()[0]\n",
    "quatroDoses = data.loc[data['dose'] == 4]\n",
    "qtdRecebQuatroDoses = quatroDoses.count()[0]\n",
    "\n",
    "labels = ['Primeira dose', 'Segunda dose', 'Terceira dose', 'Quarta dose']\n",
    "values = [qtdRecebUmaDose,qtdRecebDuasDoses, qtdRecebTresDoses,qtdRecebQuatroDoses ]\n",
    "\n",
    "fig, ax = plt.subplots(figsize=(10, 7.5))\n",
    "sns.pointplot(data=data, x=labels, y=values)\n",
    "ax.set_title('Cobertura vacinal (em milhões)')\n",
    "plt.show()"
   ]
  },
  {
   "cell_type": "markdown",
   "id": "182c9169-64c8-4e6a-ab5e-a1a8a6eae3aa",
   "metadata": {},
   "source": [
    "Observa-se um dado preocupante na cobertura vacinal da população, porque há uma queda no número de doses aplicadas para a segunda dose e essa queda fica, ainda mais evidente, em comparação com a de doses aplicadas para terceira dose, pois das mais de 1.4 milhões de pessoas que tomaram a primeira dose, menos da metade tomou a terceira dose. Além disso, o gráfico apresenta a quarta dose, que tem sua aplicação em início com cerca de 1000 doses aplicadas."
   ]
  },
  {
   "cell_type": "markdown",
   "id": "bd8c91dd-a3b7-4fcd-b555-c5246c874480",
   "metadata": {},
   "source": [
    "# Análise quantitativa de vacinas aplicadas "
   ]
  },
  {
   "cell_type": "code",
   "execution_count": 26,
   "id": "0a676dd2-c928-4b92-ba99-c3d89c339604",
   "metadata": {},
   "outputs": [
    {
     "data": {
      "image/png": "[encoded data removed]",
      "text/plain": [
       "<Figure size 432x288 with 1 Axes>"
      ]
     },
     "metadata": {},
     "output_type": "display_data"
    }
   ],
   "source": [
    "oxford = data.loc[data['vacina'] == '2 - CHADOX1NCOV-19 - OXFORD/ASTRAZENECA (FIOCRUZ)']\n",
    "qtdRecebOxford = oxford.count()[0]\n",
    "coronavac = data.loc[data['vacina'] == '1 - CORONAVAC - SINOVAC (BUTANTAN)']\n",
    "qtdRecebCoronavac = coronavac.count()[0]\n",
    "pfizer = data.loc[data['vacina'] == '3 - COMIRNATY (PFIZER)']\n",
    "qtdRecebPfizer = pfizer.count()[0]\n",
    "\n",
    "labels = ['Astrazeneca', 'CoronaVac', 'Pfizer']\n",
    "values = [qtdRecebOxford, qtdRecebCoronavac, qtdRecebPfizer]\n",
    "\n",
    "fig1, ax1 = plt.subplots()\n",
    "plt.rcParams['xtick.labelsize'] = 14\n",
    "ax1.pie(values, labels=labels, autopct='%1.1f%%', shadow=False, startangle=90, colors = ['steelblue', 'silver','red'], explode=(0.05, 0.05, 0.05))\n",
    "plt.title('Modelo de vacina aplicada')\n",
    "ax1.axis('equal')\n",
    "plt.show()"
   ]
  },
  {
   "cell_type": "markdown",
   "id": "385fdf8f-b77e-4963-8a58-0d43ad28e914",
   "metadata": {},
   "source": [
    "Observa-se um predomínio do uso da pfizer na cidade do Recife, uma vacina à base de mRNA para combater o vírus SARS-CoV-2 com eficácia global de 95%."
   ]
  },
  {
   "cell_type": "markdown",
   "id": "cab5b741-ce0a-4045-83c0-4ab7fde91261",
   "metadata": {},
   "source": [
    "# Análise de vacinas aplicadas por dose\n",
    "Agora, analisaremos as vacinas aplicadas por dose separadamente."
   ]
  },
  {
   "cell_type": "markdown",
   "id": "8fcdbe3a-27a1-415b-85be-2d5657dbe4eb",
   "metadata": {},
   "source": [
    "# Primeira dose"
   ]
  },
  {
   "cell_type": "code",
   "execution_count": 27,
   "id": "86d1b279-8c36-4f73-a0b1-0341f09d5f3c",
   "metadata": {},
   "outputs": [
    {
     "data": {
      "image/png": "[encoded data removed]",
      "text/plain": [
       "<Figure size 720x540 with 1 Axes>"
      ]
     },
     "metadata": {
      "needs_background": "light"
     },
     "output_type": "display_data"
    }
   ],
   "source": [
    "primeiraDoseAstrazeneca = (data['dose'] == 1) & (data['vacina'] == '2 - CHADOX1NCOV-19 - OXFORD/ASTRAZENECA (FIOCRUZ)')\n",
    "qtdRecebUmaDoseAstrazeneca = data[primeiraDoseAstrazeneca].count()[0]\n",
    "primeiraDoseCoronavac = (data['dose'] == 1) & (data['vacina'] == '1 - CORONAVAC - SINOVAC (BUTANTAN)')\n",
    "qtdRecebUmaDoseCoronavac = data[primeiraDoseCoronavac].count()[0]\n",
    "primeiraDosePfizer = (data['dose'] == 1) & (data['vacina'] == '3 - COMIRNATY (PFIZER)')\n",
    "qtdRecebUmaDosePfizer = data[primeiraDosePfizer].count()[0]\n",
    "\n",
    "labels1 = ['Astrazeneca', 'CoronaVac', 'Pfizer']\n",
    "values1 = [qtdRecebUmaDoseAstrazeneca, qtdRecebUmaDoseCoronavac, qtdRecebUmaDosePfizer]\n",
    "\n",
    "\n",
    "fig, ax = plt.subplots(figsize=(10, 7.5))\n",
    "sns.barplot(x=labels1, y=values1, color ='steelblue', palette=['steelblue', 'silver','red'] )\n",
    "ax.set_title('Vacinação - Primeira dose')\n",
    "plt.show()"
   ]
  },
  {
   "cell_type": "markdown",
   "id": "8d46c93c-a678-4bf7-b46c-6b69cc2033e0",
   "metadata": {},
   "source": [
    "Na primeira dose, observa-se uma distribuição bem equilibrada dos tipos de vacinas aplicadas, com a Astrazeneca tendo a maioria de doses aplicadas."
   ]
  },
  {
   "cell_type": "markdown",
   "id": "82e79b28-471f-4df7-9be5-0e7effc7ff9a",
   "metadata": {},
   "source": [
    "# Segunda dose"
   ]
  },
  {
   "cell_type": "code",
   "execution_count": 28,
   "id": "fa4ff3f4-95f2-4585-80c3-7549ad932482",
   "metadata": {},
   "outputs": [
    {
     "data": {
      "image/png": "[encoded data removed]",
      "text/plain": [
       "<Figure size 720x540 with 1 Axes>"
      ]
     },
     "metadata": {
      "needs_background": "light"
     },
     "output_type": "display_data"
    }
   ],
   "source": [
    "segundaDoseAstrazeneca = (data['dose'] == 2) & (data['vacina'] == '2 - CHADOX1NCOV-19 - OXFORD/ASTRAZENECA (FIOCRUZ)')\n",
    "qtdRecebSegundaDoseAstrazeneca = data[segundaDoseAstrazeneca].count()[0]\n",
    "segundaDoseCoronavac = (data['dose'] == 2) & (data['vacina'] == '1 - CORONAVAC - SINOVAC (BUTANTAN)')\n",
    "qtdRecebSegundaDoseCoronavac = data[segundaDoseCoronavac].count()[0]\n",
    "segundaDosePfizer = (data['dose'] == 2) & (data['vacina'] == '3 - COMIRNATY (PFIZER)')\n",
    "qtdRecebSegundaDosePfizer = data[segundaDosePfizer].count()[0]\n",
    "\n",
    "labels2 = ['Astrazeneca', 'CoronaVac', 'Pfizer']\n",
    "values2 = [qtdRecebSegundaDoseAstrazeneca, qtdRecebSegundaDoseCoronavac, qtdRecebSegundaDosePfizer]\n",
    "\n",
    "\n",
    "fig, ax = plt.subplots(figsize=(10, 7.5))\n",
    "sns.barplot(x=labels2, y=values2, color ='steelblue', palette=['steelblue', 'silver','red'] )\n",
    "ax.set_title('Vacinação - Segunda dose')\n",
    "plt.show()"
   ]
  },
  {
   "cell_type": "markdown",
   "id": "234e9565-5c55-487f-bde8-f035083acd3a",
   "metadata": {},
   "source": [
    "Na segunda dose, observa-se, também, uma distribuição bem equilibrada dos tipos de vacinas aplicadas, com a Astrazeneca, novamente, tendo a maioria de doses aplicadas."
   ]
  },
  {
   "cell_type": "markdown",
   "id": "216b2d34-27f0-4bd6-a53e-20ac02e65a56",
   "metadata": {},
   "source": [
    "# Terceira dose"
   ]
  },
  {
   "cell_type": "code",
   "execution_count": 29,
   "id": "eca92a58-647b-48b3-a0a4-a1b4fce1f099",
   "metadata": {},
   "outputs": [
    {
     "data": {
      "image/png": "[encoded data removed]",
      "text/plain": [
       "<Figure size 720x540 with 1 Axes>"
      ]
     },
     "metadata": {
      "needs_background": "light"
     },
     "output_type": "display_data"
    }
   ],
   "source": [
    "terceiraDoseAstrazeneca = (data['dose'] == 3) & (data['vacina'] == '2 - CHADOX1NCOV-19 - OXFORD/ASTRAZENECA (FIOCRUZ)')\n",
    "qtdRecebTerceiraDoseAstrazeneca = data[terceiraDoseAstrazeneca].count()[0]\n",
    "terceiraDoseCoronavac = (data['dose'] == 3) & (data['vacina'] == '1 - CORONAVAC - SINOVAC (BUTANTAN)')\n",
    "qtdRecebTerceiraDoseCoronavac = data[terceiraDoseCoronavac].count()[0]\n",
    "terceiraDosePfizer = (data['dose'] == 3) & (data['vacina'] == '3 - COMIRNATY (PFIZER)')\n",
    "qtdRecebTerceiraDosePfizer = data[terceiraDosePfizer].count()[0]\n",
    "\n",
    "labels3 = ['Astrazeneca', 'CoronaVac', 'Pfizer']\n",
    "values3 = [qtdRecebTerceiraDoseAstrazeneca, qtdRecebTerceiraDoseCoronavac, qtdRecebTerceiraDosePfizer]\n",
    "\n",
    "\n",
    "fig, ax = plt.subplots(figsize=(10, 7.5))\n",
    "sns.barplot(x=labels3, y=values3, color ='steelblue', palette=['steelblue', 'silver','red'] )\n",
    "ax.set_title('Vacinação - Terceira dose')\n",
    "plt.show()"
   ]
  },
  {
   "cell_type": "markdown",
   "id": "6b4dec47-9510-4b31-8ae2-66d03feafd9f",
   "metadata": {},
   "source": [
    "Na terceira dose, observa-se a aplicação predominantemente da Pfizer na população recifense."
   ]
  },
  {
   "cell_type": "markdown",
   "id": "03ef9867-591b-4e6d-bfc1-ec27539d5af7",
   "metadata": {},
   "source": [
    "# Quarta dose"
   ]
  },
  {
   "cell_type": "code",
   "execution_count": 30,
   "id": "76340a2c-53aa-48bc-89aa-4b0958621e79",
   "metadata": {},
   "outputs": [
    {
     "data": {
      "image/png": "[encoded data removed]",
      "text/plain": [
       "<Figure size 720x540 with 1 Axes>"
      ]
     },
     "metadata": {
      "needs_background": "light"
     },
     "output_type": "display_data"
    }
   ],
   "source": [
    "quartaDoseAstrazeneca = (data['dose'] == 4) & (data['vacina'] == '2 - CHADOX1NCOV-19 - OXFORD/ASTRAZENECA (FIOCRUZ)')\n",
    "qtdRecebQuartaDoseAstrazeneca = data[quartaDoseAstrazeneca].count()[0]\n",
    "quartaDoseCoronavac = (data['dose'] == 4) & (data['vacina'] == '1 - CORONAVAC - SINOVAC (BUTANTAN)')\n",
    "qtdRecebQuartaDoseCoronavac = data[quartaDoseCoronavac].count()[0]\n",
    "quartaDosePfizer = (data['dose'] == 4) & (data['vacina'] == '3 - COMIRNATY (PFIZER)')\n",
    "qtdRecebQuartaDosePfizer = data[quartaDosePfizer].count()[0]\n",
    "\n",
    "labels3 = ['Astrazeneca', 'CoronaVac', 'Pfizer']\n",
    "values3 = [qtdRecebQuartaDoseAstrazeneca, qtdRecebQuartaDoseCoronavac, qtdRecebQuartaDosePfizer]\n",
    "\n",
    "\n",
    "fig, ax = plt.subplots(figsize=(10, 7.5))\n",
    "sns.barplot(x=labels3, y=values3, color ='steelblue', palette=['steelblue', 'silver','red'] )\n",
    "ax.set_title('Vacinação - Quarta dose')\n",
    "plt.show()"
   ]
  },
  {
   "cell_type": "markdown",
   "id": "02309a52-ef4b-4ac1-af0d-b8f66617634d",
   "metadata": {},
   "source": [
    "Na quarta dose, observamos um cenário parecido com o da terceira dose com a vacina da Pfizer sendo a mais aplicada."
   ]
  },
  {
   "cell_type": "markdown",
   "id": "9690f389-3fc4-41ff-9a85-921df061ba99",
   "metadata": {},
   "source": [
    "# Assim, conclui-se que a cobertura vacinal do Recife precisa ser reforçada visando vacinar as pessoas que não tomaram a segunda dose e as doses de reforço."
   ]
  }
 ],
 "metadata": {
  "kernelspec": {
   "display_name": "Python 3 (ipykernel)",
   "language": "python",
   "name": "python3"
  },
  "language_info": {
   "codemirror_mode": {
    "name": "ipython",
    "version": 3
   },
   "file_extension": ".py",
   "mimetype": "text/x-python",
   "name": "python",
   "nbconvert_exporter": "python",
   "pygments_lexer": "ipython3",
   "version": "3.9.12"
  }
 },
 "nbformat": 4,
 "nbformat_minor": 5
}
